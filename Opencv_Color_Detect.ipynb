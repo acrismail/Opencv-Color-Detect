{
 "cells": [
  {
   "cell_type": "markdown",
   "id": "a2ef4f74-4bbe-4f03-ba4e-b095191c6528",
   "metadata": {},
   "source": [
    "### OPENCV İLE KIRMIZI RENK ALGILAMA"
   ]
  },
  {
   "cell_type": "code",
   "execution_count": 20,
   "id": "9e3dd64d-81ee-4bbb-beb9-247544f8d701",
   "metadata": {},
   "outputs": [],
   "source": [
    "import cv2\n",
    "import numpy as np"
   ]
  },
  {
   "cell_type": "code",
   "execution_count": 22,
   "id": "8ff2aa48-8aba-4fdc-ae77-2d2c8036a96f",
   "metadata": {},
   "outputs": [],
   "source": [
    "cap=cv2.VideoCapture(0)"
   ]
  },
  {
   "cell_type": "code",
   "execution_count": 24,
   "id": "857f60c2-223e-45ce-a811-36a99d62aa04",
   "metadata": {},
   "outputs": [],
   "source": [
    "while (cap.isOpened()):\n",
    "    ret, img = cap.read()\n",
    "    cv2.imshow(\"Capturing..\", img)\n",
    "    hsv = cv2.cvtColor(img, cv2.COLOR_BGR2HSV)\n",
    "    \n",
    "    # Kırmızı renk maskesi\n",
    "    lower_red1 = np.array([0, 100, 100])   # Düşük kırmızı aralığı\n",
    "    upper_red1 = np.array([10, 255, 255])  # Düşük kırmızı aralığı\n",
    "    lower_red2 = np.array([170, 100, 100]) # Yüksek kırmızı aralığı\n",
    "    upper_red2 = np.array([180, 255, 255]) # Yüksek kırmızı aralığı\n",
    "    \n",
    "    msk1 = cv2.inRange(hsv, lower_red1, upper_red1)  # Düşük kırmızı maskesi\n",
    "    msk2 = cv2.inRange(hsv, lower_red2, upper_red2)  # Yüksek kırmızı maskesi\n",
    "    msk = cv2.bitwise_or(msk1, msk2)  # İki maskeyi birleştir\n",
    "\n",
    "    res = cv2.bitwise_and(img, img, mask=msk)\n",
    "    cv2.imshow(\"Masked\", res)  # Maskelenmiş görüntüyü göster\n",
    "    k = cv2.waitKey(10)\n",
    "\n",
    "    if k == 27 or k == ord('q'):  # 'q' tuşuna basıldığında çık\n",
    "        break\n",
    "cap.release()\n",
    "cv2.destroyAllWindows()"
   ]
  },
  {
   "cell_type": "code",
   "execution_count": null,
   "id": "9a546fba-dae7-4354-a80c-0078fa3affaf",
   "metadata": {},
   "outputs": [],
   "source": []
  }
 ],
 "metadata": {
  "kernelspec": {
   "display_name": "Python 3 (ipykernel)",
   "language": "python",
   "name": "python3"
  },
  "language_info": {
   "codemirror_mode": {
    "name": "ipython",
    "version": 3
   },
   "file_extension": ".py",
   "mimetype": "text/x-python",
   "name": "python",
   "nbconvert_exporter": "python",
   "pygments_lexer": "ipython3",
   "version": "3.12.7"
  }
 },
 "nbformat": 4,
 "nbformat_minor": 5
}
